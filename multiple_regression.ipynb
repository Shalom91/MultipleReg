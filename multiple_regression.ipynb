{
 "cells": [
  {
   "cell_type": "markdown",
   "metadata": {
    "toc": true
   },
   "source": [
    "<h1>Table of Contents<span class=\"tocSkip\"></span></h1>\n",
    "<div class=\"toc\"><ul class=\"toc-item\"><li><span><a href=\"#EDA\" data-toc-modified-id=\"EDA-1\"><span class=\"toc-item-num\">1&nbsp;&nbsp;</span>EDA</a></span></li><li><span><a href=\"#Data-Cleaning\" data-toc-modified-id=\"Data-Cleaning-2\"><span class=\"toc-item-num\">2&nbsp;&nbsp;</span>Data Cleaning</a></span></li><li><span><a href=\"#Feature-Engineering\" data-toc-modified-id=\"Feature-Engineering-3\"><span class=\"toc-item-num\">3&nbsp;&nbsp;</span>Feature Engineering</a></span></li><li><span><a href=\"#Model-Training\" data-toc-modified-id=\"Model-Training-4\"><span class=\"toc-item-num\">4&nbsp;&nbsp;</span>Model Training</a></span></li><li><span><a href=\"#Insights\" data-toc-modified-id=\"Insights-5\"><span class=\"toc-item-num\">5&nbsp;&nbsp;</span>Insights</a></span></li></ul></div>"
   ]
  },
  {
   "cell_type": "markdown",
   "metadata": {},
   "source": [
    "# EDA"
   ]
  },
  {
   "cell_type": "code",
   "execution_count": 1,
   "metadata": {},
   "outputs": [],
   "source": [
    "# import modules\n",
    "import pandas as pd\n",
    "from pandas_profiling import ProfileReport\n",
    "import matplotlib.pyplot as plt\n",
    "import seaborn as sns\n",
    "from sklearn.model_selection import train_test_split\n",
    "from statsmodels.formula.api import ols\n",
    "from sklearn.linear_model import LinearRegression\n",
    "from sklearn import metrics\n",
    "import numpy as np\n",
    "from statistics import mean \n",
    "plt.style.use('seaborn')\n",
    "\n",
    "plt.rc('font', size=14)\n",
    "plt.rc('figure', titlesize=18)\n",
    "plt.rc('axes', labelsize=15)\n",
    "plt.rc('axes', titlesize=18)\n",
    "\n",
    "%matplotlib inline"
   ]
  },
  {
   "cell_type": "code",
   "execution_count": 2,
   "metadata": {},
   "outputs": [],
   "source": [
    "#load data\n",
    "file = 'data/salary.csv'\n",
    "df = pd.read_csv(file)"
   ]
  },
  {
   "cell_type": "code",
   "execution_count": 3,
   "metadata": {},
   "outputs": [
    {
     "name": "stderr",
     "output_type": "stream",
     "text": [
      "variables: 100%|██████████| 11/11 [00:01<00:00,  7.60it/s]\n",
      "correlations [recoded]: 100%|██████████| 6/6 [00:02<00:00,  2.95it/s] \n",
      "interactions [continuous]: 100%|██████████| 36/36 [00:13<00:00,  2.58it/s]\n",
      "table: 100%|██████████| 1/1 [00:00<00:00, 17.50it/s]\n",
      "missing [dendrogram]: 100%|██████████| 3/3 [00:01<00:00,  2.27it/s]\n",
      "warnings [correlations]: 100%|██████████| 3/3 [00:00<00:00, 128.48it/s]\n",
      "package: 100%|██████████| 1/1 [00:00<00:00, 49.78it/s]\n",
      "build report structure: 100%|██████████| 1/1 [00:09<00:00,  9.47s/it]\n"
     ]
    },
    {
     "data": {
      "application/vnd.jupyter.widget-view+json": {
       "model_id": "92cde8769de34cf2a4e77df7b096f7ff",
       "version_major": 2,
       "version_minor": 0
      },
      "text/plain": [
       "Tab(children=(Tab(children=(GridBox(children=(VBox(children=(GridspecLayout(children=(HTML(value='Number of va…"
      ]
     },
     "metadata": {},
     "output_type": "display_data"
    },
    {
     "data": {
      "text/html": [
       "Report generated with <a href=\"https://github.com/pandas-profiling/pandas-profiling\">pandas-profiling</a>."
      ],
      "text/plain": [
       "<IPython.core.display.HTML object>"
      ]
     },
     "metadata": {},
     "output_type": "display_data"
    }
   ],
   "source": [
    "def data_exp():\n",
    "    \"\"\"explore dataset\"\"\"\n",
    "    profile = ProfileReport(df, title='Pandas Profiling Report', html={'style':{'full_width':True}})\n",
    "    return profile.to_widgets()\n",
    "\n",
    "data_exp()"
   ]
  },
  {
   "cell_type": "markdown",
   "metadata": {},
   "source": [
    "> Data comprises of 514 observations, with one missing value from the target variable (**salary**). Furthermore the data has 0% of duplicate rows. Some features are characterized by a high frequency of extreme values, case in point: **experior** and **yearsabs**. \n",
    "\n",
    "> A distinct linear relationship exists between **salary** and (**yearsrank**, **yearsworked** & **market**). The **Pearson's r** correlation matrix indicates that a moderately strong positive linear correlation exists between **salary** and **position**, while a moderately strong negative linear correlation is true for **salary** and **Field**.\n",
    "\n",
    "> Lastly, other features such as **yearsabs**, **male**, and **yearsworked**, depict very strong linear correlations with other independent features, this may result in a multicollinearity problem when running a multiple linear regression model."
   ]
  },
  {
   "cell_type": "markdown",
   "metadata": {},
   "source": [
    "# Data Cleaning"
   ]
  },
  {
   "cell_type": "code",
   "execution_count": 4,
   "metadata": {},
   "outputs": [],
   "source": [
    "# replace the missing value with the mean\n",
    "df['salary'] = df.fillna(df['salary'].mean())\n",
    "\n",
    "# detecting extreme values using IQR\n",
    "Q1 = df.quantile(0.25)\n",
    "Q3 = df.quantile(0.75)\n",
    "IQR = Q3 - Q1\n",
    "\n",
    "# removing outliers from the dataset\n",
    "df_new = df[~((df < (Q1 - 1.5 * IQR)) | (df > (Q3 + 1.5 * IQR))).any(axis=1)]\n",
    "    "
   ]
  },
  {
   "cell_type": "markdown",
   "metadata": {},
   "source": [
    "# Feature Engineering"
   ]
  },
  {
   "cell_type": "code",
   "execution_count": 5,
   "metadata": {},
   "outputs": [],
   "source": [
    "cat_columns = [\"Field\", \"position\"]\n",
    "df_processed = pd.get_dummies(df_new, prefix_sep=\"_\", columns=cat_columns, drop_first=False)\n"
   ]
  },
  {
   "cell_type": "code",
   "execution_count": 6,
   "metadata": {},
   "outputs": [],
   "source": [
    "df_processed.rename(columns={'Field_1': 'Engineering', 'Field_2': 'Finance', 'Field_3':'Human Resources', 'Field_4':'Marketing'}, inplace=True)\n",
    "df_processed.rename(columns={'position_1': 'Junior_Employee', 'position_2': 'Manager', 'position_3':'Executive'}, inplace=True)\n"
   ]
  },
  {
   "cell_type": "code",
   "execution_count": 7,
   "metadata": {},
   "outputs": [],
   "source": [
    "del df_processed[\"Human Resources\"]\n",
    "del df_processed[\"Executive\"]\n"
   ]
  },
  {
   "cell_type": "markdown",
   "metadata": {},
   "source": [
    "# Model Training"
   ]
  },
  {
   "cell_type": "code",
   "execution_count": 8,
   "metadata": {},
   "outputs": [],
   "source": [
    "# split data\n",
    "train, test = train_test_split(df_processed, test_size=0.2, random_state=42)"
   ]
  },
  {
   "cell_type": "code",
   "execution_count": 26,
   "metadata": {},
   "outputs": [
    {
     "name": "stdout",
     "output_type": "stream",
     "text": [
      "                            OLS Regression Results                            \n",
      "==============================================================================\n",
      "Dep. Variable:                 salary   R-squared:                       0.813\n",
      "Model:                            OLS   Adj. R-squared:                  0.809\n",
      "Method:                 Least Squares   F-statistic:                     183.4\n",
      "Date:                Tue, 14 Apr 2020   Prob (F-statistic):           3.94e-89\n",
      "Time:                        21:56:37   Log-Likelihood:                -2586.3\n",
      "No. Observations:                 260   AIC:                             5187.\n",
      "Df Residuals:                     253   BIC:                             5212.\n",
      "Df Model:                           6                                         \n",
      "Covariance Type:            nonrobust                                         \n",
      "===================================================================================\n",
      "                      coef    std err          t      P>|t|      [0.025      0.975]\n",
      "-----------------------------------------------------------------------------------\n",
      "Intercept        1.888e+04   2289.613      8.248      0.000    1.44e+04    2.34e+04\n",
      "Engineering      5623.7768    863.935      6.509      0.000    3922.356    7325.198\n",
      "Junior_Employee -1.287e+04    978.922    -13.149      0.000   -1.48e+04   -1.09e+04\n",
      "yearsrank         670.8310     58.523     11.463      0.000     555.576     786.086\n",
      "Finance          4147.2350    829.614      4.999      0.000    2513.406    5781.064\n",
      "market           3.238e+04   2347.838     13.791      0.000    2.78e+04     3.7e+04\n",
      "Manager         -7598.7051    781.443     -9.724      0.000   -9137.667   -6059.743\n",
      "==============================================================================\n",
      "Omnibus:                       15.526   Durbin-Watson:                   2.085\n",
      "Prob(Omnibus):                  0.000   Jarque-Bera (JB):               16.704\n",
      "Skew:                           0.563   Prob(JB):                     0.000236\n",
      "Kurtosis:                       3.524   Cond. No.                         106.\n",
      "==============================================================================\n",
      "\n",
      "Warnings:\n",
      "[1] Standard Errors assume that the covariance matrix of the errors is correctly specified.\n"
     ]
    }
   ],
   "source": [
    "# run model \n",
    "salary_model = ols(\"salary ~ Engineering + Junior_Employee + yearsrank + Finance + market + Manager\", data=train).fit()\n",
    "salary_model_2 = ols(\"salary ~ Engineering + Junior_Employee + Finance + market + Manager\", data=train).fit()\n",
    "\n",
    "print(salary_model.summary())"
   ]
  },
  {
   "cell_type": "code",
   "execution_count": 10,
   "metadata": {},
   "outputs": [
    {
     "data": {
      "text/plain": [
       "Intercept          18883.808652\n",
       "Engineering         5623.776753\n",
       "Junior_Employee   -12871.811482\n",
       "yearsrank            670.831013\n",
       "Finance             4147.234995\n",
       "market             32378.296216\n",
       "Manager            -7598.705080\n",
       "dtype: float64"
      ]
     },
     "execution_count": 10,
     "metadata": {},
     "output_type": "execute_result"
    }
   ],
   "source": [
    "# Interprete coefficients\n",
    "salary_model.params"
   ]
  },
  {
   "cell_type": "markdown",
   "metadata": {},
   "source": [
    "> Holding all other factors constant, being a Junior Employee and a Manager is associated with a 12 871.81, as well as a 7 598.71 less salary respectively(as compared to a baseline salary of an Executive). \n",
    "\n",
    "> Similarly, working in the fields of Engineering and Finance is associated with a salary boost of 5 623.78 and 4 147.23 respectively (as compared to the baseline salary of workers in the field of Human Resources).\n",
    "\n",
    "> **market** and **yearsrank** are distinguishable features, in the sense that one is the largest contributing feature in the prediction of the target, and the other is the least. \n",
    "\n",
    "> Thus, holding all other variables constant, we can assert that one year increase of an employee's number of years worked at current rank, tends to be associated with an average increase of 670.83 in salary. Similarly, one unit increase of the market value of a position tends to increase salary by an average of 32 378.30.\n",
    "\n",
    "> All coefficients are significant at a 95% confidence interval, thus failing to reject the null hypothesis - the conclusion is that there is a relationship between selected features and target variable. Certain features like **yearsworked** and **Marketing** were excluded from the model because they were statistically insignificant, while other features like **yearsabs** and **degree** were excluded because they had very weak or no linear correlation with the target.\n",
    "\n",
    "> Overall, approximately 80% of variance in the observed data can be explained by the model - check the the Adjusted R-squared."
   ]
  },
  {
   "cell_type": "code",
   "execution_count": 38,
   "metadata": {},
   "outputs": [
    {
     "name": "stdout",
     "output_type": "stream",
     "text": [
      "rmse_train:  6560.702603505256 rmse_test:  6652.618585477326\n"
     ]
    },
    {
     "data": {
      "image/png": "[encoded data removed]",
      "text/plain": [
       "<Figure size 432x288 with 2 Axes>"
      ]
     },
     "metadata": {
      "needs_background": "light"
     },
     "output_type": "display_data"
    },
    {
     "data": {
      "image/png": "[encoded data removed]",
      "text/plain": [
       "<Figure size 432x288 with 1 Axes>"
      ]
     },
     "metadata": {
      "needs_background": "light"
     },
     "output_type": "display_data"
    },
    {
     "data": {
      "image/png": "[encoded data removed]",
      "text/plain": [
       "<Figure size 432x288 with 1 Axes>"
      ]
     },
     "metadata": {
      "needs_background": "light"
     },
     "output_type": "display_data"
    }
   ],
   "source": [
    "# # fitted values (need a constant term for intercept)\n",
    "#model_fitted_y = salary_model.fittedvalues\n",
    "\n",
    "# # model residuals\n",
    "# model_residuals = salary_model.resid\n",
    "\n",
    "# sns.residplot(model_fitted_y, 'salary', lowess=True, data=train, \n",
    "#              scatter_kws={'alpha':0.5},\n",
    "#              line_kws={'color':'red', 'lw':1, 'alpha':0.8})\n",
    "# _ = plt.title(\"Residuals vs Fitted\")\n",
    "# _ = plt.xlabel(\"Fitted values\")\n",
    "# _ = plt.ylabel(\"Residuals\")\n",
    "\n",
    "#train data\n",
    "y_train = train.salary\n",
    "X_train = train[['yearsrank', 'Engineering', 'Finance', 'Manager', 'market']]\n",
    "X_train_2 = train[['Engineering', 'Finance', 'Manager', 'market']]\n",
    "\n",
    "\n",
    "#test data\n",
    "y_test = test.salary\n",
    "X_test = test[['yearsrank', 'Engineering', 'Finance', 'Manager', 'market']]\n",
    "X_test_2 = test[['Engineering', 'Finance', 'Manager', 'market']]\n",
    "\n",
    "\n",
    "# Instantiate model\n",
    "lm1 = LinearRegression()\n",
    "lm2 = LinearRegression()\n",
    "\n",
    "\n",
    "# Fit model\n",
    "lm1.fit(X_train, y_train)\n",
    "lm2.fit(X_train_2, y_train)\n",
    "\n",
    "# Predict\n",
    "y_pred_train = lm1.predict(X_train)\n",
    "y_pred_train_2 = lm2.predict(X_train_2)\n",
    "\n",
    "\n",
    "# Fit model\n",
    "lm1.fit(X_test, y_test)\n",
    "lm2.fit(X_test_2, y_test)\n",
    "\n",
    "\n",
    "# Predict\n",
    "y_pred_test = lm1.predict(X_test)\n",
    "y_pred_test_2 = lm2.predict(X_test_2)\n",
    "\n",
    "\n",
    "\n",
    "\n",
    "class ErrorCalculator:\n",
    "    def __init__(self, y, y_pred, result, y_t, y_pred_t):\n",
    "        self.y = y\n",
    "        self.y_pred = y_pred\n",
    "        self.result = result\n",
    "        self.y_t = y_t\n",
    "        self.y_pred_t = y_pred_t\n",
    "        \n",
    "    def get_residuals(self):\n",
    "        residuals = self.result.resid\n",
    "        min_resid = min(residuals)\n",
    "        max_resid = max(residuals)\n",
    "        mean_resid = mean(residuals)\n",
    "        \n",
    "        return '{} {} {} {} {} {}'.format('MIN_resid: ', min_resid, 'MAX_resid: ', max_resid, \n",
    "                                          'MEAN_resid: ', mean_resid)\n",
    "    \n",
    "    def get_standardised_residuals(self):\n",
    "        residuals = self.result.resid\n",
    "        resid_std = np.std(residuals)\n",
    "        standardised_resid = residuals/resid_std\n",
    "        \n",
    "        min_std_resid = min(standardised_resid)\n",
    "        max_std_resid = max(standardised_resid)\n",
    "        mean_std_resid = mean(standardised_resid)\n",
    "        \n",
    "        return '{} {} {} {} {} {}'.format('MIN__std_resid: ', min_std_resid, 'MAX_std_resid: ', max_std_resid, \n",
    "                                          'MEAN_std_resid: ', mean_std_resid)\n",
    "    \n",
    "    def get_mse(self):\n",
    "        mse = metrics.mean_squared_error(self.y, self.y_pred)\n",
    "        mse_test = metrics.mean_squared_error(self.y_t, self.y_pred_t)\n",
    "        return '{} {} {} {}'.format('mse_train: ', mse, 'mse_test: ', mse_test)\n",
    "    \n",
    "    def get_rmse(self):\n",
    "        mse = metrics.mean_squared_error(self.y, self.y_pred)\n",
    "        mse_test = metrics.mean_squared_error(self.y_t, self.y_pred_t)\n",
    "        rmse = np.sqrt(mse)\n",
    "        rmse_test = np.sqrt(mse_test)\n",
    "        return '{} {} {} {}'.format('rmse_train: ', rmse, 'rmse_test: ', rmse_test)\n",
    "        \n",
    "model_1 = ErrorCalculator(y_train, y_pred_train, salary_model, y_test, y_pred_test)\n",
    "model_2 = ErrorCalculator(y_train, y_pred_train_2, salary_model_2, y_test, y_pred_test_2)\n",
    "\n",
    "print(ErrorCalculator.get_rmse(model_1))\n",
    "\n",
    "class Plotter:\n",
    "    def __init__(self, y, y_pred, result):\n",
    "        self.y = y\n",
    "        self.y_pred = y_pred\n",
    "        self.result = result\n",
    "        \n",
    "    def plot_hist(self):\n",
    "        residuals = self.result.resid\n",
    "        resid_std = np.std(residuals)\n",
    "        standardised_resid = residuals/resid_std\n",
    "        \n",
    "        plt.subplot(121)\n",
    "        _ = plt.hist(residuals)\n",
    "        _  = plt.title(\"Residuals Histogram\", pad=10)\n",
    "        \n",
    "        \n",
    "        plt.subplot(122)\n",
    "        plt.subplots_adjust(wspace=1)\n",
    "        _ = plt.hist(standardised_resid)\n",
    "        _  = plt.title(\"STD Residuals Histogram\", pad=10)\n",
    "        \n",
    "        plt.tight_layout()\n",
    "        plt.show()\n",
    "        \n",
    "model_1 = Plotter(y_train, y_pred_train, salary_model)\n",
    "model_2 = Plotter(y_train, y_pred_train_2, salary_model_2)\n",
    "\n",
    "\n",
    "Plotter.plot_hist(model_1)\n",
    "      \n",
    "class ScatterPlotter(Plotter):\n",
    "    def __init__(self, y, y_pred, result, dataset):\n",
    "        super().__init__(y, y_pred, result)\n",
    "        self.dataset = dataset\n",
    "    \n",
    "    def resid_fitted_scatter(self):\n",
    "        residuals = self.result.resid\n",
    "        plt.subplot(211)\n",
    "        sns.residplot(self.y_pred, residuals, lowess=True, data=self.dataset, \n",
    "             scatter_kws={'alpha':0.5},\n",
    "             line_kws={'color':'red', 'lw':1, 'alpha':0.8})\n",
    "        _ = plt.title(\"Residuals vs Predicted Values\")\n",
    "        _ = plt.xlabel(\"Fitted values\")\n",
    "        _ = plt.ylabel(\"Residuals\")\n",
    "        plt.show()\n",
    "        \n",
    "        plt.subplot(212)\n",
    "        sns.residplot(self.y_pred, self.y, lowess=True, data=self.dataset, \n",
    "             scatter_kws={'alpha':0.5},\n",
    "             line_kws={'color':'red', 'lw':1, 'alpha':0.8})\n",
    "        _ = plt.title(\"Predicted Values vs Observed Values\")\n",
    "        _ = plt.xlabel(\"Fitted values\")\n",
    "        _ = plt.ylabel(\"Residuals\")\n",
    "        plt.show()\n",
    "        \n",
    "model_1 = ScatterPlotter(y_train, y_pred_train, salary_model, train)\n",
    "model_2 = ScatterPlotter(y_train, y_pred_train_2, salary_model_2, train)\n",
    "\n",
    "        \n",
    "ScatterPlotter.resid_fitted_scatter(model_2)"
   ]
  },
  {
   "cell_type": "markdown",
   "metadata": {},
   "source": [
    "> The above \"Residuals vs Fitted\" plot is relatively shapeless, with no observable clear patterns in the data. There is one potential outlier, but generally, the data is symmetrically distributed around the zero line without particularly large residuals. In conclusion, given the above plot, it is safe to say that our model satisfies linear regression assumptions of linearity(indicated by the mean residual value for every fitted value region being close to 0) and homoskedasticity ( The spread of residuals is approximately the same across the x-axis.)"
   ]
  },
  {
   "cell_type": "code",
   "execution_count": 12,
   "metadata": {},
   "outputs": [
    {
     "name": "stdout",
     "output_type": "stream",
     "text": [
      "6560.702603505256\n"
     ]
    }
   ],
   "source": [
    "#train data\n",
    "y_train = train.salary\n",
    "X_train = train[['yearsrank', 'Engineering', 'Finance', 'Manager', 'market']]\n",
    "\n",
    "#test data\n",
    "y_test = test.salary\n",
    "X_test = test[['yearsrank', 'Engineering', 'Finance', 'Manager', 'market']]\n",
    "\n",
    "# Instantiate model\n",
    "lm1 = LinearRegression()\n",
    "\n",
    "# Fit model\n",
    "lm1.fit(X_train, y_train)\n",
    "\n",
    "# Predict\n",
    "y_pred_train = lm1.predict(X_train)\n",
    "\n",
    "# RMSE: train data\n",
    "print(np.sqrt(metrics.mean_squared_error(y_train, y_pred_train)))"
   ]
  },
  {
   "cell_type": "code",
   "execution_count": 13,
   "metadata": {},
   "outputs": [
    {
     "name": "stdout",
     "output_type": "stream",
     "text": [
      "6652.618585477326\n"
     ]
    }
   ],
   "source": [
    "# Fit model\n",
    "lm1.fit(X_test, y_test)\n",
    "\n",
    "# Predict\n",
    "y_pred_test = lm1.predict(X_test)\n",
    "\n",
    "# RMSE: test data\n",
    "print(np.sqrt(metrics.mean_squared_error(y_test, y_pred_test)))"
   ]
  },
  {
   "cell_type": "markdown",
   "metadata": {},
   "source": [
    "# Insights"
   ]
  },
  {
   "cell_type": "markdown",
   "metadata": {},
   "source": [
    "> Removing the **Junior_Employee** feature, resulted in a reduced difference between the train RMSE and the test RMSE, wheres before, the difference was grossly large indicating the model was overfit."
   ]
  }
 ],
 "metadata": {
  "file_extension": ".py",
  "kernelspec": {
   "display_name": "Python 3.6.9 64-bit ('multEnv': virtualenv)",
   "language": "python",
   "name": "python36964bitmultenvvirtualenvec11d3d6cf7e41a78e5434108245da07"
  },
  "language_info": {
   "codemirror_mode": {
    "name": "ipython",
    "version": 3
   },
   "file_extension": ".py",
   "mimetype": "text/x-python",
   "name": "python",
   "nbconvert_exporter": "python",
   "pygments_lexer": "ipython3",
   "version": "3.6.9"
  },
  "mimetype": "text/x-python",
  "name": "python",
  "npconvert_exporter": "python",
  "pygments_lexer": "ipython3",
  "toc": {
   "base_numbering": 1,
   "nav_menu": {},
   "number_sections": true,
   "sideBar": true,
   "skip_h1_title": false,
   "title_cell": "Table of Contents",
   "title_sidebar": "Contents",
   "toc_cell": true,
   "toc_position": {},
   "toc_section_display": true,
   "toc_window_display": false
  },
  "varInspector": {
   "cols": {
    "lenName": 16,
    "lenType": 16,
    "lenVar": 40
   },
   "kernels_config": {
    "python": {
     "delete_cmd_postfix": "",
     "delete_cmd_prefix": "del ",
     "library": "var_list.py",
     "varRefreshCmd": "print(var_dic_list())"
    },
    "r": {
     "delete_cmd_postfix": ") ",
     "delete_cmd_prefix": "rm(",
     "library": "var_list.r",
     "varRefreshCmd": "cat(var_dic_list()) "
    }
   },
   "types_to_exclude": [
    "module",
    "function",
    "builtin_function_or_method",
    "instance",
    "_Feature"
   ],
   "window_display": false
  },
  "version": 3
 },
 "nbformat": 4,
 "nbformat_minor": 2
}
