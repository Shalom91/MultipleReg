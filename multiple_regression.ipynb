{
 "cells": [
  {
   "cell_type": "markdown",
   "metadata": {
    "toc": true
   },
   "source": [
    "<h1>Table of Contents<span class=\"tocSkip\"></span></h1>\n",
    "<div class=\"toc\"><ul class=\"toc-item\"><li><span><a href=\"#EDA\" data-toc-modified-id=\"EDA-1\"><span class=\"toc-item-num\">1&nbsp;&nbsp;</span>EDA</a></span></li><li><span><a href=\"#Data-Cleaning\" data-toc-modified-id=\"Data-Cleaning-2\"><span class=\"toc-item-num\">2&nbsp;&nbsp;</span>Data Cleaning</a></span></li><li><span><a href=\"#Feature-Engineering\" data-toc-modified-id=\"Feature-Engineering-3\"><span class=\"toc-item-num\">3&nbsp;&nbsp;</span>Feature Engineering</a></span></li><li><span><a href=\"#Model-Training\" data-toc-modified-id=\"Model-Training-4\"><span class=\"toc-item-num\">4&nbsp;&nbsp;</span>Model Training</a></span></li><li><span><a href=\"#Insights\" data-toc-modified-id=\"Insights-5\"><span class=\"toc-item-num\">5&nbsp;&nbsp;</span>Insights</a></span></li></ul></div>"
   ]
  },
  {
   "cell_type": "markdown",
   "metadata": {},
   "source": [
    "# EDA"
   ]
  },
  {
   "cell_type": "code",
   "execution_count": 1,
   "metadata": {},
   "outputs": [],
   "source": [
    "# import modules\n",
    "import pandas as pd\n",
    "from pandas_profiling import ProfileReport\n",
    "from sklearn.model_selection import train_test_split\n",
    "from statsmodels.formula.api import ols\n",
    "from sklearn.linear_model import LinearRegression\n",
    "from sklearn import metrics\n",
    "from src.ErrorCalculator import ErrorCalculator\n",
    "from src.Plotter import *\n",
    "plt.style.use('seaborn')\n",
    "\n",
    "plt.rc('font', size=14)\n",
    "plt.rc('figure', titlesize=18)\n",
    "plt.rc('axes', labelsize=15)\n",
    "plt.rc('axes', titlesize=18)\n",
    "\n",
    "%matplotlib inline"
   ]
  },
  {
   "cell_type": "code",
   "execution_count": 2,
   "metadata": {},
   "outputs": [],
   "source": [
    "#load data\n",
    "file = 'data/salary.csv'\n",
    "df = pd.read_csv(file)"
   ]
  },
  {
   "cell_type": "code",
   "execution_count": null,
   "metadata": {},
   "outputs": [
    {
     "name": "stderr",
     "output_type": "stream",
     "text": [
      "variables: 100%|██████████| 11/11 [00:02<00:00,  3.89it/s]\n",
      "correlations [recoded]: 100%|██████████| 6/6 [00:06<00:00,  1.11s/it] \n",
      "interactions [continuous]: 100%|██████████| 36/36 [00:15<00:00,  2.33it/s]\n",
      "table: 100%|██████████| 1/1 [00:00<00:00,  8.72it/s]\n",
      "missing [dendrogram]: 100%|██████████| 3/3 [00:01<00:00,  1.96it/s]\n",
      "warnings [correlations]: 100%|██████████| 3/3 [00:00<00:00, 103.21it/s]\n",
      "package: 100%|██████████| 1/1 [00:00<00:00, 51.59it/s]\n",
      "build report structure: 100%|██████████| 1/1 [00:10<00:00, 10.33s/it]\n"
     ]
    },
    {
     "data": {
      "application/vnd.jupyter.widget-view+json": {
       "model_id": "c98d44c421a04512a315d65eebcd80b1",
       "version_major": 2,
       "version_minor": 0
      },
      "text/plain": [
       "Tab(children=(Tab(children=(GridBox(children=(VBox(children=(GridspecLayout(children=(HTML(value='Number of va…"
      ]
     },
     "metadata": {},
     "output_type": "display_data"
    }
   ],
   "source": [
    "def data_exp():\n",
    "    \"\"\"explore dataset\"\"\"\n",
    "    profile = ProfileReport(df, title='Pandas Profiling Report', html={'style':{'full_width':True}})\n",
    "    return profile.to_widgets()\n",
    "\n",
    "data_exp()"
   ]
  },
  {
   "cell_type": "markdown",
   "metadata": {},
   "source": [
    "> Data comprises of 514 observations, with one missing value from the target variable (**salary**). Furthermore the data has 0% of duplicate rows. Some features are characterized by a high frequency of extreme values, case in point: **experior** and **yearsabs**. \n",
    "\n",
    "> A distinct linear relationship exists between **salary** and (**yearsrank**, **yearsworked** & **market**). The **Pearson's r** correlation matrix indicates that a moderately strong positive linear correlation exists between **salary** and **position**, while a moderately strong negative linear correlation is true for **salary** and **Field**.\n",
    "\n",
    "> Lastly, other features such as **yearsabs**, **male**, and **yearsworked**, depict very strong linear correlations with other independent features, this may result in a multicollinearity problem when running a multiple linear regression model."
   ]
  },
  {
   "cell_type": "markdown",
   "metadata": {},
   "source": [
    "# Data Cleaning"
   ]
  },
  {
   "cell_type": "code",
   "execution_count": null,
   "metadata": {},
   "outputs": [],
   "source": [
    "# replace the missing value with the mean\n",
    "df['salary'] = df.fillna(df['salary'].mean())\n",
    "\n",
    "# detecting extreme values using IQR\n",
    "Q1 = df.quantile(0.25)\n",
    "Q3 = df.quantile(0.75)\n",
    "IQR = Q3 - Q1\n",
    "\n",
    "# removing outliers from the dataset\n",
    "df_new = df[~((df < (Q1 - 1.5 * IQR)) | (df > (Q3 + 1.5 * IQR))).any(axis=1)]\n",
    "    "
   ]
  },
  {
   "cell_type": "markdown",
   "metadata": {},
   "source": [
    "# Feature Engineering"
   ]
  },
  {
   "cell_type": "code",
   "execution_count": null,
   "metadata": {},
   "outputs": [],
   "source": [
    "cat_columns = [\"Field\", \"position\"]\n",
    "df_processed = pd.get_dummies(df_new, prefix_sep=\"_\", columns=cat_columns, drop_first=False)\n"
   ]
  },
  {
   "cell_type": "code",
   "execution_count": null,
   "metadata": {},
   "outputs": [],
   "source": [
    "df_processed.rename(columns={'Field_1': 'Engineering', 'Field_2': 'Finance', 'Field_3':'Human Resources', 'Field_4':'Marketing'}, inplace=True)\n",
    "df_processed.rename(columns={'position_1': 'Junior_Employee', 'position_2': 'Manager', 'position_3':'Executive'}, inplace=True)\n"
   ]
  },
  {
   "cell_type": "code",
   "execution_count": null,
   "metadata": {},
   "outputs": [],
   "source": [
    "del df_processed[\"Human Resources\"]\n",
    "del df_processed[\"Executive\"]\n"
   ]
  },
  {
   "cell_type": "markdown",
   "metadata": {},
   "source": [
    "# Model Training"
   ]
  },
  {
   "cell_type": "code",
   "execution_count": null,
   "metadata": {},
   "outputs": [],
   "source": [
    "# split data\n",
    "train, test = train_test_split(df_processed, test_size=0.2, random_state=42)"
   ]
  },
  {
   "cell_type": "code",
   "execution_count": null,
   "metadata": {},
   "outputs": [],
   "source": [
    "# run model \n",
    "salary_model = ols(\"salary ~ Engineering + Junior_Employee + yearsrank + Finance + market + Manager\", data=train).fit()\n",
    "salary_model_2 = ols(\"salary ~ Engineering + Junior_Employee + Finance + market + Manager\", data=train).fit()\n",
    "\n",
    "print(salary_model.summary())"
   ]
  },
  {
   "cell_type": "code",
   "execution_count": null,
   "metadata": {},
   "outputs": [],
   "source": [
    "# Interprete coefficients\n",
    "salary_model.params"
   ]
  },
  {
   "cell_type": "markdown",
   "metadata": {},
   "source": [
    "> Holding all other factors constant, being a Junior Employee and a Manager is associated with a 12 871.81, as well as a 7 598.71 less salary respectively(as compared to a baseline salary of an Executive). \n",
    "\n",
    "> Similarly, working in the fields of Engineering and Finance is associated with a salary boost of 5 623.78 and 4 147.23 respectively (as compared to the baseline salary of workers in the field of Human Resources).\n",
    "\n",
    "> **market** and **yearsrank** are distinguishable features, in the sense that one is the largest contributing feature in the prediction of the target, and the other is the least. \n",
    "\n",
    "> Thus, holding all other variables constant, we can assert that one year increase of an employee's number of years worked at current rank, tends to be associated with an average increase of 670.83 in salary. Similarly, one unit increase of the market value of a position tends to increase salary by an average of 32 378.30.\n",
    "\n",
    "> All coefficients are significant at a 95% confidence interval, thus failing to reject the null hypothesis - the conclusion is that there is a relationship between selected features and target variable. Certain features like **yearsworked** and **Marketing** were excluded from the model because they were statistically insignificant, while other features like **yearsabs** and **degree** were excluded because they had very weak or no linear correlation with the target.\n",
    "\n",
    "> Overall, approximately 80% of variance in the observed data can be explained by the model - check the the Adjusted R-squared."
   ]
  },
  {
   "cell_type": "code",
   "execution_count": null,
   "metadata": {},
   "outputs": [],
   "source": [
    "#train data\n",
    "y_train = train.salary\n",
    "X_train = train[['yearsrank', 'Engineering', 'Finance', 'Manager', 'market']]\n",
    "X_train_2 = train[['Engineering', 'Finance', 'Manager', 'market']]\n",
    "\n",
    "#test data\n",
    "y_test = test.salary\n",
    "X_test = test[['yearsrank', 'Engineering', 'Finance', 'Manager', 'market']]\n",
    "X_test_2 = test[['Engineering', 'Finance', 'Manager', 'market']]\n",
    "\n",
    "# Instantiate model\n",
    "lm1 = LinearRegression()\n",
    "lm2 = LinearRegression()\n",
    "\n",
    "# Fit model\n",
    "lm1.fit(X_train, y_train)\n",
    "lm2.fit(X_train_2, y_train)\n",
    "\n",
    "# Predict\n",
    "y_pred_train = lm1.predict(X_train)\n",
    "y_pred_train_2 = lm2.predict(X_train_2)\n",
    "\n",
    "# Fit model\n",
    "lm1.fit(X_test, y_test)\n",
    "lm2.fit(X_test_2, y_test)\n",
    "\n",
    "# Predict\n",
    "y_pred_test = lm1.predict(X_test)\n",
    "y_pred_test_2 = lm2.predict(X_test_2)\n"
   ]
  },
  {
   "cell_type": "code",
   "execution_count": null,
   "metadata": {},
   "outputs": [],
   "source": [
    "model_1 = ErrorCalculator(y_train, y_pred_train, salary_model, y_test, y_pred_test)\n",
    "model_2 = ErrorCalculator(y_train, y_pred_train_2, salary_model_2, y_test, y_pred_test_2)\n",
    "\n",
    "print(ErrorCalculator.error_summary(model_1))"
   ]
  },
  {
   "cell_type": "code",
   "execution_count": null,
   "metadata": {},
   "outputs": [],
   "source": [
    "model_1 = HistogramPlotter(y_train, y_pred_train, salary_model)\n",
    "model_2 = Plotter(y_train, y_pred_train_2, salary_model_2)\n",
    "\n",
    "HistogramPlotter.plot(model_1)"
   ]
  },
  {
   "cell_type": "code",
   "execution_count": null,
   "metadata": {},
   "outputs": [],
   "source": [
    "model_1 = ScatterPlotter(y_train, y_pred_train, salary_model, train)\n",
    "model_2 = ScatterPlotter(y_train, y_pred_train_2, salary_model_2, train)\n",
    "\n",
    "ScatterPlotter.plot(model_1)"
   ]
  },
  {
   "cell_type": "markdown",
   "metadata": {},
   "source": [
    "# Insights"
   ]
  },
  {
   "cell_type": "markdown",
   "metadata": {},
   "source": [
    "> The RMSE results of both **model_1** and **model_2** show that the model is underfitted. In the case of model_2, which is fitted with the exlusion of the **yearsrank** feature, the underfitting is execerbated. The residual plots satisfy the linear regression assumptions of linearity and homoscedasticity, however model_1 seems to be the better of the two. "
   ]
  },
  {
   "cell_type": "code",
   "execution_count": null,
   "metadata": {},
   "outputs": [],
   "source": []
  }
 ],
 "metadata": {
  "file_extension": ".py",
  "kernelspec": {
   "display_name": "Python 3.6.9 64-bit ('multEnv': virtualenv)",
   "language": "python",
   "name": "python36964bitmultenvvirtualenvec11d3d6cf7e41a78e5434108245da07"
  },
  "language_info": {
   "codemirror_mode": {
    "name": "ipython",
    "version": 3
   },
   "file_extension": ".py",
   "mimetype": "text/x-python",
   "name": "python",
   "nbconvert_exporter": "python",
   "pygments_lexer": "ipython3",
   "version": "3.6.9"
  },
  "mimetype": "text/x-python",
  "name": "python",
  "npconvert_exporter": "python",
  "pygments_lexer": "ipython3",
  "toc": {
   "base_numbering": 1,
   "nav_menu": {},
   "number_sections": true,
   "sideBar": true,
   "skip_h1_title": false,
   "title_cell": "Table of Contents",
   "title_sidebar": "Contents",
   "toc_cell": true,
   "toc_position": {},
   "toc_section_display": true,
   "toc_window_display": false
  },
  "varInspector": {
   "cols": {
    "lenName": 16,
    "lenType": 16,
    "lenVar": 40
   },
   "kernels_config": {
    "python": {
     "delete_cmd_postfix": "",
     "delete_cmd_prefix": "del ",
     "library": "var_list.py",
     "varRefreshCmd": "print(var_dic_list())"
    },
    "r": {
     "delete_cmd_postfix": ") ",
     "delete_cmd_prefix": "rm(",
     "library": "var_list.r",
     "varRefreshCmd": "cat(var_dic_list()) "
    }
   },
   "types_to_exclude": [
    "module",
    "function",
    "builtin_function_or_method",
    "instance",
    "_Feature"
   ],
   "window_display": false
  },
  "version": 3
 },
 "nbformat": 4,
 "nbformat_minor": 2
}
